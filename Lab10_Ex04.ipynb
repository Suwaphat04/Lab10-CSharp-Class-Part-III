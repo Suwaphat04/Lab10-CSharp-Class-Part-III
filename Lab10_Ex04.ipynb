{
 "cells": [
  {
   "cell_type": "markdown",
   "metadata": {},
   "source": [
    "# Lab 10  Class Part III\n"
   ]
  },
  {
   "cell_type": "markdown",
   "metadata": {},
   "source": [
    "## Ex04  การตรวจสอบค่าที่กำหนดให้กับ Property"
   ]
  },
  {
   "cell_type": "markdown",
   "metadata": {},
   "source": [
    "### การทดลองย่อย 10.4.1 ตรวจสอบช่วงของค่า"
   ]
  },
  {
   "cell_type": "code",
   "execution_count": 3,
   "metadata": {
    "dotnet_interactive": {
     "language": "csharp"
    },
    "polyglot_notebook": {
     "kernelName": "csharp"
    }
   },
   "outputs": [],
   "source": [
    "public class Score\n",
    "{\n",
    "    private int _value;\n",
    "\n",
    "    public int Value\n",
    "    {\n",
    "        get { return _value; }\n",
    "        set\n",
    "        {\n",
    "            if (value >= 0 && value <= 100)\n",
    "            {\n",
    "                _value = value;\n",
    "            }\n",
    "            else\n",
    "            {\n",
    "                throw new ArgumentOutOfRangeException(\"Score must be between 0 and 100.\");\n",
    "            }\n",
    "        }\n",
    "    }\n",
    "}"
   ]
  },
  {
   "cell_type": "markdown",
   "metadata": {},
   "source": [
    "ให้เขียน code เพื่อทำงานดังนี้\n",
    "1. สร้าง object จากคลาส Score\n",
    "2. กำหนดคะแนนในช่วงปกติ\n",
    "3. แสดงคะแนนที่เก็บใน object "
   ]
  },
  {
   "cell_type": "code",
   "execution_count": 2,
   "metadata": {
    "dotnet_interactive": {
     "language": "csharp"
    },
    "polyglot_notebook": {
     "kernelName": "csharp"
    }
   },
   "outputs": [
    {
     "data": {
      "text/html": [
       "<div class=\"dni-plaintext\"><pre>70</pre></div><style>\r\n",
       ".dni-code-hint {\r\n",
       "    font-style: italic;\r\n",
       "    overflow: hidden;\r\n",
       "    white-space: nowrap;\r\n",
       "}\r\n",
       ".dni-treeview {\r\n",
       "    white-space: nowrap;\r\n",
       "}\r\n",
       ".dni-treeview td {\r\n",
       "    vertical-align: top;\r\n",
       "    text-align: start;\r\n",
       "}\r\n",
       "details.dni-treeview {\r\n",
       "    padding-left: 1em;\r\n",
       "}\r\n",
       "table td {\r\n",
       "    text-align: start;\r\n",
       "}\r\n",
       "table tr { \r\n",
       "    vertical-align: top; \r\n",
       "    margin: 0em 0px;\r\n",
       "}\r\n",
       "table tr td pre \r\n",
       "{ \r\n",
       "    vertical-align: top !important; \r\n",
       "    margin: 0em 0px !important;\r\n",
       "} \r\n",
       "table th {\r\n",
       "    text-align: start;\r\n",
       "}\r\n",
       "</style>"
      ]
     },
     "metadata": {},
     "output_type": "display_data"
    }
   ],
   "source": [
    "Score sc = new();\n",
    "sc.Value = 70;\n",
    "sc.Value        // เราสามารถเรียกดูค่าโดยไม่ต้องใช้ Console.WriteLine()  แต่ต้องอยู่บรรทุดสุดท้ายเพียงบรทัดเดียว และต้องไม่ใส่ ; ท้ายคำสั่ง \n"
   ]
  },
  {
   "cell_type": "markdown",
   "metadata": {},
   "source": [
    "ให้เขียน code เพื่อทำงานดังนี้\n",
    "1. สร้าง object จากคลาส Score\n",
    "2. กำหนดคะแนนผิดปกติ (เป็นค่าลบ)\n",
    "3. แสดงคะแนนที่เก็บใน object "
   ]
  },
  {
   "cell_type": "code",
   "execution_count": 5,
   "metadata": {
    "polyglot_notebook": {
     "kernelName": "csharp"
    }
   },
   "outputs": [],
   "source": [
    "using static System.Console;\n",
    "\n",
    "public class Score\n",
    "{\n",
    "    private int _value;\n",
    "\n",
    "    public int Value\n",
    "    {\n",
    "        get { return _value; }\n",
    "        set\n",
    "        {\n",
    "            // ตรวจสอบว่าค่า Value สามารถเป็นค่าติดลบได้หรือไม่\n",
    "            if (value < 0)\n",
    "            {\n",
    "                WriteLine(\"Warning: You have assigned a negative value!\");\n",
    "            }\n",
    "            _value = value;\n",
    "        }\n",
    "    }\n",
    "}\n",
    "\n",
    "class Program\n",
    "{\n",
    "    static void Main()\n",
    "    {\n",
    "        Score sc = new();  // สร้างอ็อบเจ็กต์จากคลาส Score\n",
    "        sc.Value = -50;    // ใส่ค่าตัวเลขติดลบ\n",
    "        \n",
    "        WriteLine($\"Value: {sc.Value}\");  // แสดงค่าของ Value\n",
    "    }\n",
    "}\n"
   ]
  },
  {
   "cell_type": "markdown",
   "metadata": {},
   "source": [
    "### การทดลองย่อย 10.4.2 ตรวจสอบรูปแบบของ String (Regular Expression)"
   ]
  },
  {
   "cell_type": "markdown",
   "metadata": {},
   "source": [
    "Regular Expression หรือ Regex คือรูปแบบที่ใช้ในการจับคู่ข้อความ ชุดของอักขระ หรือโทเค็น\n",
    "\n",
    "รูปแบบเหล่านี้ใช้ในการค้นหาและจัดการข้อความ เช่น การตรวจสอบว่าผู้ใช้ป้อนอีเมลในรูปแบบที่ถูกต้องหรือไม่ หรือการแยกคำสำคัญออกจากบทความ\n",
    "\n",
    "Regular Expression มีประโยชน์อย่างมากในการทำงานกับข้อความ เพราะช่วยให้เราสามารถกำหนดรูปแบบที่ซับซ้อนได้อย่างยืดหยุ่น\n",
    "\n",
    "#### ตัวอย่างการใช้งาน\n",
    "- ตรวจสอบรูปแบบอีเมล\n",
    "- ค้นหาคำที่ขึ้นต้นด้วยตัวอักษร \"A\"\n",
    "- แยกหมายเลขโทรศัพท์ออกจากข้อความ\n",
    "- แทนที่คำบางคำในข้อความ\n",
    "\n",
    "#### หลักการทำงาน\n",
    "Regular Expression ประกอบด้วยตัวอักษรและสัญลักษณ์พิเศษที่ใช้ในการกำหนดรูปแบบ\n",
    "\n",
    "|Expression|ความหมาย|\n",
    "|----------|--------|\n",
    "|ตัวอักษร| จับคู่ตัวอักษรนั้นๆ โดยตรง|\n",
    "|. (จุด)| จับคู่ตัวอักษรใดๆ ก็ได้|\n",
    "|*| จับคู่สิ่งที่อยู่ข้างหน้า 0 ครั้งหรือมากกว่า|\n",
    "|+| จับคู่สิ่งที่อยู่ข้างหน้า 1 ครั้งหรือมากกว่า|\n",
    "|?| จับคู่สิ่งที่อยู่ข้างหน้า 0 หรือ 1 ครั้ง|\n",
    "|[]| จับคู่ตัวอักษรใดๆ ที่อยู่ในวงเล็บ|\n",
    "|()| จับกลุ่มของรูปแบบ|\n",
    "\n",
    "#### ตัวอย่าง Regex\n",
    "\n",
    "|รูปแบบ|Regular Expression|\n",
    "|-----|-----|\n",
    "|ตรวจสอบรูปแบบอีเมล|^[a-zA-Z0-9._%+-]+@[a-zA-Z0-9.-]+\\.[a-zA-Z]{2,}$|\n",
    "|ค้นหาคำที่ขึ้นต้นด้วยตัวอักษร \"A\"|\\bA\\w+\\b|\n",
    "|ตรวจสอบหมายเลขโทรศัพท์ในรูปแบบ XXX-XXX-XXXX|\\bA\\w+\\b|\\d{3}-\\d{3}-\\d{4}|"
   ]
  },
  {
   "cell_type": "code",
   "execution_count": 6,
   "metadata": {
    "dotnet_interactive": {
     "language": "csharp"
    },
    "polyglot_notebook": {
     "kernelName": "csharp"
    }
   },
   "outputs": [],
   "source": [
    "using System.Text.RegularExpressions;\n",
    "\n",
    "public class Email\n",
    "{\n",
    "    private string _address;\n",
    "\n",
    "    public string Address\n",
    "    {\n",
    "        get { return _address; }\n",
    "        set\n",
    "        {\n",
    "            if (IsValidEmail(value))\n",
    "            {\n",
    "                _address = value;\n",
    "            }\n",
    "            else\n",
    "            {\n",
    "                throw new ArgumentException(\"Invalid email address.\");\n",
    "            }\n",
    "        }\n",
    "    }\n",
    "\n",
    "    private bool IsValidEmail(string value)   // ตรวจสอบรูปแบบโดยใช้ Regular Expressions\n",
    "    {\n",
    "        string pattern = @\"^[a-zA-Z0-9._%+-]+@[a-zA-Z0-9.-]+\\.[a-zA-Z]{2,}$\";\n",
    "        return Regex.IsMatch(value, pattern);\n",
    "    }\n",
    "}\n"
   ]
  },
  {
   "cell_type": "markdown",
   "metadata": {},
   "source": [
    "ให้เขียน code เพื่อทำงานดังนี้\n",
    "1. สร้าง object จากคลาส Email\n",
    "2. กำหนด Email ที่ __ถูกต้อง__\n",
    "3. แสดง email address ที่เก็บใน object "
   ]
  },
  {
   "cell_type": "code",
   "execution_count": 8,
   "metadata": {
    "polyglot_notebook": {
     "kernelName": "csharp"
    }
   },
   "outputs": [],
   "source": [
    "using static System.Console;\n",
    "\n",
    "public class Email\n",
    "{\n",
    "    private string _address;\n",
    "\n",
    "    // Property สำหรับเก็บ email address\n",
    "    public string Address\n",
    "    {\n",
    "        get { return _address; }\n",
    "        set\n",
    "        {\n",
    "            // ตรวจสอบว่าเป็น email ที่ถูกต้องหรือไม่\n",
    "            if (string.IsNullOrEmpty(value) || !value.Contains(\"@\"))\n",
    "            {\n",
    "                WriteLine(\"กรุณาใส่ที่อยู่อีเมลที่ถูกต้อง\");\n",
    "            }\n",
    "            else\n",
    "            {\n",
    "                _address = value;\n",
    "            }\n",
    "        }\n",
    "    }\n",
    "}\n",
    "\n",
    "class Program\n",
    "{\n",
    "    static void Main()\n",
    "    {\n",
    "        Email email = new();  // สร้างอ็อบเจ็กต์จากคลาส Email\n",
    "        \n",
    "        // ใส่ที่อยู่อีเมล\n",
    "        email.Address = \"input correct email address\";  // เปลี่ยนที่อยู่ email ตามต้องการ\n",
    "        \n",
    "        WriteLine(email.Address);  // แสดงที่อยู่อีเมล\n",
    "    }\n",
    "}\n"
   ]
  },
  {
   "cell_type": "markdown",
   "metadata": {},
   "source": [
    "ให้เขียน code เพื่อทำงานดังนี้\n",
    "1. สร้าง object จากคลาส Email\n",
    "2. กำหนด Email ที่ __ไม่__ ถูกต้อง\n",
    "3. แสดง email address ที่เก็บใน object "
   ]
  },
  {
   "cell_type": "code",
   "execution_count": 9,
   "metadata": {
    "polyglot_notebook": {
     "kernelName": "csharp"
    }
   },
   "outputs": [],
   "source": [
    "using static System.Console;\n",
    "\n",
    "public class Email\n",
    "{\n",
    "    private string _address;\n",
    "\n",
    "    // Property สำหรับเก็บ email address\n",
    "    public string Address\n",
    "    {\n",
    "        get { return _address; }\n",
    "        set\n",
    "        {\n",
    "            // ตรวจสอบว่าเป็น email ที่ถูกต้องหรือไม่\n",
    "            if (string.IsNullOrEmpty(value) || !value.Contains(\"@\"))\n",
    "            {\n",
    "                WriteLine(\"กรุณาใส่ที่อยู่อีเมลที่ถูกต้อง\");\n",
    "            }\n",
    "            else\n",
    "            {\n",
    "                _address = value;\n",
    "            }\n",
    "        }\n",
    "    }\n",
    "}\n",
    "\n",
    "class Program\n",
    "{\n",
    "    static void Main()\n",
    "    {\n",
    "        Email email = new();  // สร้างอ็อบเจ็กต์จากคลาส Email\n",
    "        \n",
    "        // ใส่ที่อยู่อีเมลที่ไม่ถูกต้อง (ไม่มีเครื่องหมาย @)\n",
    "        email.Address = \"invalidemail.com\";  // อีเมลไม่ถูกต้อง\n",
    "        \n",
    "        // แสดงที่อยู่อีเมลที่เก็บใน object\n",
    "        WriteLine($\"Email Address: {email.Address}\");  // แสดงผลค่า email address\n",
    "    }\n",
    "}\n"
   ]
  },
  {
   "cell_type": "markdown",
   "metadata": {},
   "source": [
    "### การทดลองย่อย 10.4.3 ตรวจสอบค่า Null หรือ Empty ของ string"
   ]
  },
  {
   "cell_type": "code",
   "execution_count": 10,
   "metadata": {
    "polyglot_notebook": {
     "kernelName": "csharp"
    }
   },
   "outputs": [],
   "source": [
    "public class Name\n",
    "{\n",
    "    private string _firstName;\n",
    "\n",
    "    public string FirstName\n",
    "    {\n",
    "        get { return _firstName; }\n",
    "        set\n",
    "        {\n",
    "            if (!string.IsNullOrEmpty(value))\n",
    "            {\n",
    "                _firstName = value;\n",
    "            }\n",
    "            else\n",
    "            {\n",
    "                throw new ArgumentNullException(\"First name cannot be null or empty.\");\n",
    "            }\n",
    "        }\n",
    "    }\n",
    "}"
   ]
  },
  {
   "cell_type": "markdown",
   "metadata": {},
   "source": [
    "ให้เขียน code เพื่อทำงานดังนี้\n",
    "1. สร้าง object จากคลาส Name\n",
    "2. กำหนดชื่อที่ถูกต้องให้กับ  object.FirstName  \n",
    "3. แสดง  object.FirstName \n",
    "\n",
    "(อย่าลืมรัน code cell ด้านบนก่อน มิฉะนัันจะไม้สามารถใช้งานคลาส Name ได้)"
   ]
  },
  {
   "cell_type": "code",
   "execution_count": 11,
   "metadata": {
    "dotnet_interactive": {
     "language": "csharp"
    },
    "polyglot_notebook": {
     "kernelName": "csharp"
    }
   },
   "outputs": [
    {
     "data": {
      "text/plain": [
       "Donale"
      ]
     },
     "metadata": {},
     "output_type": "display_data"
    }
   ],
   "source": [
    "Name man = new Name();\n",
    "man.FirstName = \"Donale\";\n",
    "man.FirstName"
   ]
  },
  {
   "cell_type": "markdown",
   "metadata": {},
   "source": [
    "ให้เขียน code เพื่อทำงานดังนี้\n",
    "1. สร้าง object จากคลาส Name\n",
    "2. กำหนด object.FirstName เป็น string.Empty\n",
    "3. แสดง  object.FirstName"
   ]
  },
  {
   "cell_type": "code",
   "execution_count": 13,
   "metadata": {
    "polyglot_notebook": {
     "kernelName": "csharp"
    }
   },
   "outputs": [],
   "source": [
    "using static System.Console;\n",
    "\n",
    "public class Name\n",
    "{\n",
    "    private string _firstName;\n",
    "\n",
    "    // Property สำหรับเก็บ FirstName\n",
    "    public string FirstName\n",
    "    {\n",
    "        get { return _firstName; }\n",
    "        set\n",
    "        {\n",
    "            // ถ้า FirstName เป็นค่าว่าง, จะตั้งเป็น \"Unknown\"\n",
    "            if (string.IsNullOrEmpty(value))\n",
    "            {\n",
    "                WriteLine(\"ชื่อไม่สามารถเป็นค่าว่างได้\");\n",
    "                _firstName = \"Unknown\";  // กำหนดค่าเป็น \"Unknown\" เมื่อ FirstName เป็นค่าว่าง\n",
    "            }\n",
    "            else\n",
    "            {\n",
    "                _firstName = value;\n",
    "            }\n",
    "        }\n",
    "    }\n",
    "}\n",
    "\n",
    "class Program\n",
    "{\n",
    "    static void Main()\n",
    "    {\n",
    "        Name man = new Name();  // สร้างอ็อบเจ็กต์จากคลาส Name\n",
    "\n",
    "        // กำหนดค่า FirstName เป็นค่าว่าง\n",
    "        man.FirstName = string.Empty;\n",
    "\n",
    "        // แสดงค่า FirstName\n",
    "        WriteLine($\"First Name: {man.FirstName}\");  // จะแสดงค่า \"Unknown\"\n",
    "    }\n",
    "}\n"
   ]
  },
  {
   "cell_type": "markdown",
   "metadata": {},
   "source": [
    "ให้เขียน code เพื่อทำงานดังนี้\n",
    "1. สร้าง object จากคลาส Name\n",
    "2. แสดง object.FirstName  โดยไม่ต้องกำหนดค่าใดๆ ให้ FirstName"
   ]
  },
  {
   "cell_type": "code",
   "execution_count": 14,
   "metadata": {
    "polyglot_notebook": {
     "kernelName": "csharp"
    }
   },
   "outputs": [
    {
     "name": "stdout",
     "output_type": "stream",
     "text": [
      "ชื่อไม่สามารถเป็นค่าว่างได้\r\n"
     ]
    },
    {
     "data": {
      "text/plain": [
       "Unknown"
      ]
     },
     "metadata": {},
     "output_type": "display_data"
    }
   ],
   "source": [
    "Name man = new Name();\n",
    "man.FirstName = string.Empty;\n",
    "man.FirstName"
   ]
  }
 ],
 "metadata": {
  "kernelspec": {
   "display_name": ".NET (C#)",
   "language": "C#",
   "name": ".net-csharp"
  },
  "polyglot_notebook": {
   "kernelInfo": {
    "defaultKernelName": "csharp",
    "items": [
     {
      "aliases": [],
      "languageName": "csharp",
      "name": "csharp"
     }
    ]
   }
  }
 },
 "nbformat": 4,
 "nbformat_minor": 2
}
